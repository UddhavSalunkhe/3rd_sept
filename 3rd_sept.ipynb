{
 "cells": [
  {
   "cell_type": "code",
   "execution_count": null,
   "id": "32600980-aee4-49a1-b33d-1c6de639ed92",
   "metadata": {},
   "outputs": [],
   "source": [
    "1. Write a Python program to print the numbers from 1 to 10 using a `for` loop."
   ]
  },
  {
   "cell_type": "code",
   "execution_count": 1,
   "id": "ecf32c48-40bc-48f7-a1ac-76b8d248e342",
   "metadata": {},
   "outputs": [
    {
     "name": "stdout",
     "output_type": "stream",
     "text": [
      "1 2 3 4 5 6 7 8 9 10 "
     ]
    }
   ],
   "source": [
    "for i in range(1,11):\n",
    "    print(i,end=' ')"
   ]
  },
  {
   "cell_type": "code",
   "execution_count": null,
   "id": "b9e262d7-733f-404d-a2cb-2cb27568a001",
   "metadata": {},
   "outputs": [],
   "source": [
    "2. Create a program that calculates the sum of all numbers in a list using a `for` loop."
   ]
  },
  {
   "cell_type": "code",
   "execution_count": 5,
   "id": "9c02eb5a-0280-4af3-9b79-3dae3ba49fcc",
   "metadata": {},
   "outputs": [
    {
     "name": "stdout",
     "output_type": "stream",
     "text": [
      "Sum of all numbers in list=  15\n"
     ]
    }
   ],
   "source": [
    "li=[1,2,3,4,5]\n",
    "s=0\n",
    "for i in li:\n",
    "    s=s+i\n",
    "print(\"Sum of all numbers in list= \",s)"
   ]
  },
  {
   "cell_type": "code",
   "execution_count": null,
   "id": "b28e9a2c-31d2-4750-8df3-3542eda99f19",
   "metadata": {},
   "outputs": [],
   "source": [
    "3. Write a program to print the characters of a string in reverse order using a `for` loop."
   ]
  },
  {
   "cell_type": "code",
   "execution_count": 20,
   "id": "08ee4907-f917-460b-a0ca-afa9bf94fff2",
   "metadata": {},
   "outputs": [
    {
     "name": "stdout",
     "output_type": "stream",
     "text": [
      "EHKNULAS , VAHDDU"
     ]
    }
   ],
   "source": [
    "st='UDDHAV , SALUNKHE'\n",
    "length=len(st)\n",
    "for i in range(length-1,-1,-1):\n",
    "    print(st[i],end='')"
   ]
  },
  {
   "cell_type": "code",
   "execution_count": null,
   "id": "608baf67-b700-4640-81df-2186fe4775f0",
   "metadata": {},
   "outputs": [],
   "source": [
    "4. Develop a program that finds the factorial of a given number using a `for` loop."
   ]
  },
  {
   "cell_type": "code",
   "execution_count": 37,
   "id": "d477e22e-cd42-4529-b7de-4fbe544708c2",
   "metadata": {},
   "outputs": [
    {
     "name": "stdin",
     "output_type": "stream",
     "text": [
      "Enter a Number... 5\n"
     ]
    },
    {
     "name": "stdout",
     "output_type": "stream",
     "text": [
      "120\n"
     ]
    }
   ],
   "source": [
    "no=int(input('Enter a Number...'))\n",
    "fact=1\n",
    "for i in range(no,0,-1):\n",
    "    #fact=fact*1\n",
    "    #print(i)\n",
    "    fact=fact*i\n",
    "print(fact)"
   ]
  },
  {
   "cell_type": "code",
   "execution_count": null,
   "id": "4c1e156b-77b7-4b70-abe4-42f7bd94342a",
   "metadata": {},
   "outputs": [],
   "source": [
    "5. Create a program to print the multiplication table of a given number using a `for` loop."
   ]
  },
  {
   "cell_type": "code",
   "execution_count": 39,
   "id": "a04d3452-f13f-4a04-b171-0d0572c2b5b7",
   "metadata": {},
   "outputs": [
    {
     "name": "stdin",
     "output_type": "stream",
     "text": [
      "Enter a number... 5\n"
     ]
    },
    {
     "name": "stdout",
     "output_type": "stream",
     "text": [
      "5\n",
      "10\n",
      "15\n",
      "20\n",
      "25\n",
      "30\n",
      "35\n",
      "40\n",
      "45\n",
      "50\n"
     ]
    }
   ],
   "source": [
    "no=int(input('Enter a number...'))\n",
    "for i in range(1,11):\n",
    "    print(no*i)"
   ]
  },
  {
   "cell_type": "code",
   "execution_count": null,
   "id": "42d2386a-4c71-4d35-92c7-b440910715e4",
   "metadata": {},
   "outputs": [],
   "source": [
    "6. Write a program that counts the number of even and odd numbers in a list using a `for` loop."
   ]
  },
  {
   "cell_type": "code",
   "execution_count": 45,
   "id": "1cffde65-697c-4727-96a8-125d7e04e287",
   "metadata": {},
   "outputs": [
    {
     "name": "stdout",
     "output_type": "stream",
     "text": [
      "Even no count=  5\n",
      "Odd no count=  6\n"
     ]
    }
   ],
   "source": [
    "li=[11,1,2,3,4,5,6,7,8,9,10]\n",
    "ecount=0\n",
    "ocount=0\n",
    "for i in li:\n",
    "    if (i%2==0):\n",
    "        ecount+=1\n",
    "    else:\n",
    "        ocount+=1\n",
    "print(\"Even no count= \",ecount)\n",
    "print(\"Odd no count= \",ocount)"
   ]
  },
  {
   "cell_type": "code",
   "execution_count": null,
   "id": "78aba99b-4f4d-40e3-9849-98451a0e7b32",
   "metadata": {},
   "outputs": [],
   "source": [
    "7. Develop a program that prints the squares of numbers from 1 to 5 using a `for` loop."
   ]
  },
  {
   "cell_type": "code",
   "execution_count": 48,
   "id": "c1bc29e9-45b6-4d43-b563-8e6d560cd276",
   "metadata": {},
   "outputs": [
    {
     "name": "stdout",
     "output_type": "stream",
     "text": [
      "1 = 1\n",
      "2 = 4\n",
      "3 = 9\n",
      "4 = 16\n",
      "5 = 25\n"
     ]
    }
   ],
   "source": [
    "for i in range(1,6):\n",
    "    print(i,'=',i*i)"
   ]
  },
  {
   "cell_type": "code",
   "execution_count": null,
   "id": "663399ae-7586-4829-acf6-5b5c277f0c59",
   "metadata": {},
   "outputs": [],
   "source": [
    "Create a program to find the length of a string without using the `len()` function."
   ]
  },
  {
   "cell_type": "code",
   "execution_count": 51,
   "id": "b94e3c44-9eb4-43ed-b7b0-b8fc28dea3b1",
   "metadata": {},
   "outputs": [
    {
     "name": "stdout",
     "output_type": "stream",
     "text": [
      "15\n"
     ]
    }
   ],
   "source": [
    "st='UDDHAV SALUNKHE'\n",
    "count=0\n",
    "for i in st:\n",
    "    count+=1\n",
    "print(count)\n",
    "        "
   ]
  },
  {
   "cell_type": "code",
   "execution_count": null,
   "id": "08cdadab-198c-4ec5-8e38-b4149600f092",
   "metadata": {},
   "outputs": [],
   "source": [
    "9. Write a program that calculates the average of a list of numbers using a `for` loop."
   ]
  },
  {
   "cell_type": "code",
   "execution_count": 56,
   "id": "c5c876d9-637a-4143-bb96-a0e45c982554",
   "metadata": {},
   "outputs": [
    {
     "name": "stdout",
     "output_type": "stream",
     "text": [
      "Average=  5.5\n"
     ]
    }
   ],
   "source": [
    "li=[1,2,3,4,5,6,7,8,9,10]\n",
    "total=0\n",
    "count=0\n",
    "for i in li:\n",
    "    count+=1\n",
    "    total+=i\n",
    "#print(total)\n",
    "avg=total/count\n",
    "print(\"Average= \",avg)"
   ]
  },
  {
   "cell_type": "code",
   "execution_count": null,
   "id": "b087b3c3-e024-4659-adb3-2dd6ca66759e",
   "metadata": {},
   "outputs": [],
   "source": [
    "10. Develop a program that prints the first `n` Fibonacci numbers using a `for` loop."
   ]
  },
  {
   "cell_type": "code",
   "execution_count": 77,
   "id": "ea2689c0-759f-47bd-99da-38ebc005d4f9",
   "metadata": {},
   "outputs": [
    {
     "name": "stdout",
     "output_type": "stream",
     "text": [
      "0 1 1 2 3 5 8 13 21 34 "
     ]
    }
   ],
   "source": [
    "a = 0\n",
    "b = 1\n",
    "for i in range(10):  # Change 10 to however many numbers you want to print\n",
    "    print(a,end=' ')\n",
    "    a, b = b, a + b  # Update a to b, and b to a + b\n"
   ]
  },
  {
   "cell_type": "code",
   "execution_count": null,
   "id": "b32187fd-61c2-4e52-8b2d-cc9256ce57d6",
   "metadata": {},
   "outputs": [],
   "source": [
    "11. Write a program to check if a given list contains any duplicates using a `for` loop."
   ]
  },
  {
   "cell_type": "code",
   "execution_count": 1,
   "id": "54a8e39f-d7ee-4412-b339-fac2a28089e1",
   "metadata": {},
   "outputs": [
    {
     "name": "stdout",
     "output_type": "stream",
     "text": [
      "Dublicate...\n"
     ]
    }
   ],
   "source": [
    "li=[1,2,3,4,5,6,7,8]\n",
    "flag=0\n",
    "for i in range(len(li)):\n",
    "    for j in range (len(li)):\n",
    "        if li[i]==li[j]:\n",
    "            flag=1\n",
    "        else:\n",
    "            flag=0\n",
    "    if(flag==1):\n",
    "        print('Dublicate...')"
   ]
  },
  {
   "cell_type": "code",
   "execution_count": null,
   "id": "d541279c-d225-4c81-bb8d-33c29518bfde",
   "metadata": {},
   "outputs": [],
   "source": [
    "12. Create a program that prints the prime numbers in a given range using a `for` loop."
   ]
  },
  {
   "cell_type": "code",
   "execution_count": 8,
   "id": "bd148e38-772f-4c4f-b765-499441c08d75",
   "metadata": {},
   "outputs": [
    {
     "name": "stdout",
     "output_type": "stream",
     "text": [
      "3 5 7 11 13 17 19 23 29 31 37 41 43 47 "
     ]
    }
   ],
   "source": [
    "for i in range(3, 51):\n",
    "    is_prime = True\n",
    "    for j in range(2, i):\n",
    "        if i % j == 0:\n",
    "            is_prime = False\n",
    "            break\n",
    "    if is_prime:\n",
    "        print(i,end=' ')\n"
   ]
  },
  {
   "cell_type": "code",
   "execution_count": null,
   "id": "7376f0e4-89f7-4a9e-b23a-28fe10107931",
   "metadata": {},
   "outputs": [],
   "source": [
    "13. Develop a program that counts the number of vowels in a string using a `for` loop."
   ]
  },
  {
   "cell_type": "code",
   "execution_count": 9,
   "id": "b8d802ab-2ba8-48c3-92e7-d9a6e6ca8c24",
   "metadata": {},
   "outputs": [
    {
     "name": "stdout",
     "output_type": "stream",
     "text": [
      "7\n"
     ]
    }
   ],
   "source": [
    "st='Uddhav Vishwas Salunkhe'\n",
    "count=0\n",
    "vowel='aeiouAEIOU'\n",
    "for i in st:\n",
    "    if i in vowel:\n",
    "        count+=1\n",
    "print(count)\n"
   ]
  },
  {
   "cell_type": "code",
   "execution_count": null,
   "id": "8d42b47a-4afd-49f2-ab27-d7910535af01",
   "metadata": {},
   "outputs": [],
   "source": [
    "14. Write a program to find the maximum element in a 2D list using a nested `for` loop."
   ]
  },
  {
   "cell_type": "code",
   "execution_count": 30,
   "id": "0ec62e0a-cdec-4b01-9a13-8954e3081b91",
   "metadata": {},
   "outputs": [
    {
     "name": "stdout",
     "output_type": "stream",
     "text": [
      "90\n"
     ]
    }
   ],
   "source": [
    "matrix =[[1,2,3,4,5],[6,8,9,8,7],[90,65,43,12,34]]\n",
    "max_ele = 0\n",
    "for row in matrix:\n",
    "    for element in row:\n",
    "        if element > max_ele :\n",
    "            max_ele = element\n",
    "print(max_ele)"
   ]
  },
  {
   "cell_type": "code",
   "execution_count": null,
   "id": "73ed32ca-c3bb-4438-b3a9-bf4c019a2107",
   "metadata": {},
   "outputs": [],
   "source": [
    "15. Create a program that removes all occurrences of a specific element from a list using a `for` loop."
   ]
  },
  {
   "cell_type": "code",
   "execution_count": 33,
   "id": "84d2cfbc-b318-4b0e-8b54-af0542e46f43",
   "metadata": {},
   "outputs": [
    {
     "name": "stdout",
     "output_type": "stream",
     "text": [
      "[1, 3, 4, 5, 6]\n"
     ]
    }
   ],
   "source": [
    "original_list = [1, 2, 3, 4, 2, 5, 2, 6]\n",
    "deleted_element = 2\n",
    "updated_list = []\n",
    "for i in original_list:\n",
    "    if i != deleted_element :\n",
    "        updated_list.append(i)\n",
    "print(updated_list)"
   ]
  },
  {
   "cell_type": "code",
   "execution_count": null,
   "id": "ad9deb81-0692-444a-8db5-f4eaefa02e10",
   "metadata": {},
   "outputs": [],
   "source": [
    "16. Develop a program that generates a multiplication table for numbers from 1 to 5 using a nested `for` loop."
   ]
  },
  {
   "cell_type": "code",
   "execution_count": null,
   "id": "b2fd7bae-5824-40b7-8d6b-e4be808ffcf1",
   "metadata": {},
   "outputs": [
    {
     "name": "stdout",
     "output_type": "stream",
     "text": [
      "1   2   3   4   5   6   7   8   9   10   \n",
      "2   4   6   8   10   12   14   16   18   20   \n",
      "3   6   9   12   15   18   21   24   27   30   \n",
      "4   8   12   16   20   24   28   32   36   40   \n",
      "5   10   15   20   25   30   35   40   45   50   \n"
     ]
    }
   ],
   "source": [
    "for i in range(1,6):\n",
    "    for j in range(1,11):\n",
    "        print(i*j,end='   ')\n",
    "    print()"
   ]
  },
  {
   "cell_type": "code",
   "execution_count": null,
   "id": "4c7d1447-7f64-4d84-8f8d-5b78987672ad",
   "metadata": {},
   "outputs": [],
   "source": [
    "17. Write a program that converts a list of Fahrenheit temperatures to Celsius using a `for` loop."
   ]
  },
  {
   "cell_type": "code",
   "execution_count": null,
   "id": "f8b89486-9110-496c-89f1-a1078fb57e38",
   "metadata": {},
   "outputs": [
    {
     "name": "stdout",
     "output_type": "stream",
     "text": [
      "[12.222222222222221, 6.111111111111111, 0.0, 7.222222222222222, 18.333333333333332]\n"
     ]
    }
   ],
   "source": [
    "f_list = [54,43,32,45,65]\n",
    "d_list = []\n",
    "for i in f_list :\n",
    "    c = (i-32)*5/9\n",
    "    d_list.append(c)\n",
    "print(d_list)"
   ]
  },
  {
   "cell_type": "code",
   "execution_count": null,
   "id": "217cf5c0-359f-4301-a2a7-6656bae7f2a2",
   "metadata": {},
   "outputs": [],
   "source": [
    "18. Create a program to print the common elements from two lists using a `for` loop."
   ]
  },
  {
   "cell_type": "code",
   "execution_count": null,
   "id": "bc571bc1-9759-4fc1-a978-95faa7f62513",
   "metadata": {},
   "outputs": [
    {
     "name": "stdout",
     "output_type": "stream",
     "text": [
      "[2, 5, 4, 7, 5, 4]\n"
     ]
    }
   ],
   "source": [
    "l1 = [2,5,4,7,6,5,4]\n",
    "l2 = [5,4,9,8,7,2,]\n",
    "l3 = []\n",
    "for i in l1 :\n",
    "    for j in l2:\n",
    "        if i == j:\n",
    "            l3.append(i)\n",
    "print(l3)"
   ]
  },
  {
   "cell_type": "code",
   "execution_count": null,
   "id": "59ffdb32-9766-419c-8f8d-8454161b01ba",
   "metadata": {},
   "outputs": [],
   "source": [
    "19. Develop a program that prints the pattern of right-angled triangles using a `for` loop. Use ‘*’ to draw the\n",
    "pattern"
   ]
  },
  {
   "cell_type": "code",
   "execution_count": 19,
   "id": "5fa25333-4912-440e-8e00-975575fa443c",
   "metadata": {},
   "outputs": [
    {
     "name": "stdout",
     "output_type": "stream",
     "text": [
      "\n",
      "*  \n",
      "*  *  \n",
      "*  *  *  \n",
      "*  *  *  *  \n"
     ]
    }
   ],
   "source": [
    "for i in range(0,5):\n",
    "    for j in range(0,i):\n",
    "        print(\"* \",end=' ')\n",
    "    print()"
   ]
  },
  {
   "cell_type": "code",
   "execution_count": null,
   "id": "94ced423-080d-468a-a811-dfd342e035d4",
   "metadata": {},
   "outputs": [],
   "source": [
    "20. Write a program to find the greatest common divisor (GCD) of two numbers using a `for` loop."
   ]
  },
  {
   "cell_type": "code",
   "execution_count": 34,
   "id": "c53bdd51-a7d4-4891-9a10-084bbff04d1d",
   "metadata": {},
   "outputs": [
    {
     "name": "stdout",
     "output_type": "stream",
     "text": [
      "10\n"
     ]
    }
   ],
   "source": [
    "no1 = 110\n",
    "no2 = 1900\n",
    "gcd1 = []\n",
    "gcd2 = []\n",
    "gcd = []\n",
    "if no1 == no2:\n",
    "    print('GCD= ',no1)\n",
    "else:\n",
    "    for i in range(1,no1):\n",
    "        if (no1%i == 0):\n",
    "            gcd1.append(i)\n",
    "    for i in range(1,no2):\n",
    "        if (no2 % i == 0):\n",
    "            gcd2.append(i)\n",
    "                \n",
    "#print(gcd1)\n",
    "#print(gcd2)\n",
    "for i in gcd1 :\n",
    "    for j in gcd2 :\n",
    "        if (i == j):\n",
    "            gcd.append(i)\n",
    "print(max(gcd))"
   ]
  },
  {
   "cell_type": "markdown",
   "id": "950ef5e2-7391-4693-b791-f609977ec8d7",
   "metadata": {},
   "source": [
    "21. Create a program that calculates the sum of the digits of numbers in a list using a list comprehension."
   ]
  },
  {
   "cell_type": "code",
   "execution_count": 44,
   "id": "8c02bdc6-e0ba-46aa-97ad-fd7b90e7fde9",
   "metadata": {},
   "outputs": [
    {
     "name": "stdout",
     "output_type": "stream",
     "text": [
      "28\n"
     ]
    }
   ],
   "source": [
    "l = [1,2,3,4,5,6,7]\n",
    "add = 0\n",
    "for i in l :\n",
    "    add = add + i\n",
    "print(add)"
   ]
  },
  {
   "cell_type": "code",
   "execution_count": null,
   "id": "de7add9b-f058-4b5b-a6b4-e2b2fd12101e",
   "metadata": {},
   "outputs": [],
   "source": [
    "22. Write a program to find the prime factors of a given number using a `for` loop and list comprehension."
   ]
  },
  {
   "cell_type": "code",
   "execution_count": 7,
   "id": "64bce179-940b-40ba-b985-c39675f675a7",
   "metadata": {},
   "outputs": [
    {
     "name": "stdin",
     "output_type": "stream",
     "text": [
      "Enter a number:   10\n"
     ]
    },
    {
     "name": "stdout",
     "output_type": "stream",
     "text": [
      "[2, 5]\n"
     ]
    }
   ],
   "source": [
    "no = int (input('Enter a number:  '))\n",
    "if no > 1:\n",
    "    fact = []\n",
    "    for i in range(2,no+1):\n",
    "        while no % i == 0:\n",
    "            fact.append(i)\n",
    "            no //=i\n",
    "    print(fact)\n",
    "else:\n",
    "    print(\"Enter number greter than 1...\")\n"
   ]
  },
  {
   "cell_type": "code",
   "execution_count": null,
   "id": "2e0b722e-36fb-456a-b639-823e3cbd698e",
   "metadata": {},
   "outputs": [],
   "source": [
    "23. Develop a program that extracts unique elements from a list and stores them in a new list using a list\n",
    "comprehension."
   ]
  },
  {
   "cell_type": "code",
   "execution_count": 1,
   "id": "b6e77a70-9073-4ea7-9252-5ab774fe73ae",
   "metadata": {},
   "outputs": [
    {
     "name": "stdout",
     "output_type": "stream",
     "text": [
      "[1, 2, 3, 4, 5, 6, 7, 8]\n"
     ]
    }
   ],
   "source": [
    "original_list = [1, 2, 2, 3, 4, 4, 5, 6, 6, 7, 8, 8]\n",
    "unique_list = []\n",
    "for i in original_list :\n",
    "    if i not in unique_list:\n",
    "        unique_list.append(i)\n",
    "print(unique_list)"
   ]
  },
  {
   "cell_type": "code",
   "execution_count": null,
   "id": "1e83b665-dd03-479f-970c-e7e96dd8523c",
   "metadata": {},
   "outputs": [],
   "source": [
    "24. Create a program that generates a list of all palindromic numbers up to a specified limit using a list\n",
    "comprehension."
   ]
  },
  {
   "cell_type": "code",
   "execution_count": 12,
   "id": "f93234d2-97da-4b53-b203-a615d22b8f9c",
   "metadata": {},
   "outputs": [
    {
     "name": "stdin",
     "output_type": "stream",
     "text": [
      "Enter a limit 15\n"
     ]
    },
    {
     "name": "stdout",
     "output_type": "stream",
     "text": [
      "[0, 1, 2, 3, 4, 5, 6, 7, 8, 9, 11]\n"
     ]
    }
   ],
   "source": [
    "limit = int(input('Enter a limit'))\n",
    "ext_list = []\n",
    "for i in range (limit + 1):\n",
    "    num = str (i)\n",
    "    if num == num[::-1]:\n",
    "        ext_list.append(i)\n",
    "print(ext_list)"
   ]
  },
  {
   "cell_type": "code",
   "execution_count": null,
   "id": "d6db35e4-b531-4e66-a9a6-ddfb31e3cdcd",
   "metadata": {},
   "outputs": [],
   "source": [
    "25. Write a program to flatten a nested list using list comprehension."
   ]
  },
  {
   "cell_type": "code",
   "execution_count": 18,
   "id": "aec47afa-04c7-4ede-b6a5-dbfc8e353cfe",
   "metadata": {},
   "outputs": [
    {
     "name": "stdout",
     "output_type": "stream",
     "text": [
      "[1, 2, 3, 4, 5, 6, 7, 8, 9]\n"
     ]
    }
   ],
   "source": [
    "nasted_list = [[1, 2, [3, 4]], [5, [6, 7]], 8, [9]]\n",
    "flated_list = []\n",
    "for sub_list in nasted_list:\n",
    "    if type(sub_list) is list:\n",
    "        for item in sub_list:\n",
    "            if type(item) is list:\n",
    "                flated_list.extend(item)\n",
    "            else:\n",
    "                flated_list.append(item)\n",
    "    else:\n",
    "        flated_list.append(sub_list)\n",
    "print(flated_list)"
   ]
  },
  {
   "cell_type": "code",
   "execution_count": null,
   "id": "6829c78b-2341-4889-b4a3-bd993d8010ef",
   "metadata": {},
   "outputs": [],
   "source": [
    "26. Develop a program that computes the sum of even and odd numbers in a list separately using list\n",
    "comprehension."
   ]
  },
  {
   "cell_type": "code",
   "execution_count": 27,
   "id": "d6cb84ed-8fa5-4a08-8a8f-a3c345cf9bee",
   "metadata": {},
   "outputs": [
    {
     "name": "stdout",
     "output_type": "stream",
     "text": [
      "[2, 4, 6, 8]\n",
      "Even sum=  20\n",
      "Odd sum=  25\n"
     ]
    }
   ],
   "source": [
    "li = [1,2,3,4,5,6,7,8,9]\n",
    "e_list = []\n",
    "o_list = []\n",
    "e_summ = 0\n",
    "o_summ = 0\n",
    "for i in li :\n",
    "    if i % 2 == 0:\n",
    "        a=e_list.append(i)\n",
    "    else:\n",
    "        o_list.append(i)\n",
    "print(e_list)    \n",
    "for i in e_list:\n",
    "    e_summ =e_summ + i\n",
    "print(\"Even sum= \",e_summ)\n",
    "for j in o_list:\n",
    "    o_summ = o_summ + j\n",
    "print(\"Odd sum= \",o_summ)"
   ]
  },
  {
   "cell_type": "code",
   "execution_count": null,
   "id": "f43e4fd7-7673-40fa-a03d-8dbb6bc74abc",
   "metadata": {},
   "outputs": [],
   "source": []
  },
  {
   "cell_type": "code",
   "execution_count": null,
   "id": "c436a688-cf56-4b74-b7f2-4c4a07746b97",
   "metadata": {},
   "outputs": [],
   "source": [
    "27. Create a program that generates a list of squares of odd numbers between 1 and 10 using list\n",
    "comprehension."
   ]
  },
  {
   "cell_type": "code",
   "execution_count": 1,
   "id": "02f451a5-cb58-45fa-9c41-dfb5a0fd997b",
   "metadata": {},
   "outputs": [
    {
     "name": "stdout",
     "output_type": "stream",
     "text": [
      "[1, 9, 25, 49, 81]\n"
     ]
    }
   ],
   "source": [
    "sq_list = []\n",
    "for i in range(1,11):\n",
    "    if (i % 2 != 0):\n",
    "        sq_list.append(i*i)\n",
    "print(sq_list)"
   ]
  },
  {
   "cell_type": "code",
   "execution_count": null,
   "id": "0ba686c9-591e-4890-b8b1-77e68e004a26",
   "metadata": {},
   "outputs": [],
   "source": [
    "28. Write a program that combines two lists into a dictionary using list comprehension."
   ]
  },
  {
   "cell_type": "code",
   "execution_count": 5,
   "id": "3956241b-cb78-4739-9cf6-506c76b5e8fa",
   "metadata": {},
   "outputs": [
    {
     "name": "stdout",
     "output_type": "stream",
     "text": [
      "{'a': 1, 'b': 2, 'c': 3}\n"
     ]
    }
   ],
   "source": [
    "key = ['a','b','c']\n",
    "values = [1,2,3]\n",
    "dict_list = {}\n",
    "for i in range( len ( key ) ):\n",
    "    dict_list[key[i]] = values[i]\n",
    "print(dict_list)"
   ]
  },
  {
   "cell_type": "code",
   "execution_count": null,
   "id": "0afba488-e69a-445c-85d6-beadc7b9e9b3",
   "metadata": {},
   "outputs": [],
   "source": [
    "29. Develop a program that extracts the vowels from a string and stores them in a list using list comprehension."
   ]
  },
  {
   "cell_type": "code",
   "execution_count": 6,
   "id": "58f67779-7e3a-4b5e-bb3c-31de9afcb3f6",
   "metadata": {},
   "outputs": [
    {
     "name": "stdout",
     "output_type": "stream",
     "text": [
      "['U', 'a', 'i', 'a', 'a', 'u', 'e']\n"
     ]
    }
   ],
   "source": [
    "string = 'Uddhav Vishwas Salunkhe.'\n",
    "vowel = 'aeiouAEIOU'\n",
    "vowel_list = []\n",
    "for i in string:\n",
    "    if i in vowel:\n",
    "        vowel_list.append(i)\n",
    "print(vowel_list)"
   ]
  },
  {
   "cell_type": "code",
   "execution_count": null,
   "id": "e685e343-31e4-4b09-819a-ea4f835d6c4a",
   "metadata": {},
   "outputs": [],
   "source": [
    "30. Create a program that removes all non-numeric characters from a list of strings using list comprehension."
   ]
  },
  {
   "cell_type": "code",
   "execution_count": 11,
   "id": "519e24d6-607e-44c9-8814-e5861a0cc7d4",
   "metadata": {},
   "outputs": [
    {
     "name": "stdout",
     "output_type": "stream",
     "text": [
      "['8', '8', '5', '6', '9', '6', '2', '5', '3', '9']\n"
     ]
    }
   ],
   "source": [
    "num_string = 'Uddhav 8856962539 Salunkhe'\n",
    "numbric = '1234567890'\n",
    "non_num_string = []\n",
    "for i in num_string:\n",
    "    if i in numbric:\n",
    "        non_num_string.append(i)\n",
    "print(non_num_string)"
   ]
  },
  {
   "cell_type": "code",
   "execution_count": null,
   "id": "2c719e2f-bb50-4998-bdea-0d4acac01fa5",
   "metadata": {},
   "outputs": [],
   "source": []
  }
 ],
 "metadata": {
  "kernelspec": {
   "display_name": "Python 3 (ipykernel)",
   "language": "python",
   "name": "python3"
  },
  "language_info": {
   "codemirror_mode": {
    "name": "ipython",
    "version": 3
   },
   "file_extension": ".py",
   "mimetype": "text/x-python",
   "name": "python",
   "nbconvert_exporter": "python",
   "pygments_lexer": "ipython3",
   "version": "3.10.8"
  }
 },
 "nbformat": 4,
 "nbformat_minor": 5
}
